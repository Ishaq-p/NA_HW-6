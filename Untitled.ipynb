{
 "cells": [
  {
   "cell_type": "code",
   "execution_count": 1,
   "id": "323127db",
   "metadata": {},
   "outputs": [
    {
     "name": "stdout",
     "output_type": "stream",
     "text": [
      "-1 :\t 2.999 \t 1.2890737\n",
      "0 :\t 3.0 \t 1.2890744\n",
      "1 :\t 3.001 \t 1.2890752\n",
      "2 :\t 3.002 \t 1.2890759\n",
      "3 :\t 3.003 \t 1.2890767\n",
      "4 :\t 3.004 \t 1.2890774\n"
     ]
    }
   ],
   "source": [
    "import os\n",
    "os.chdir('Code')\n",
    "from sig_digits import sig_digits as sd\n",
    "import numpy as np\n",
    "from rounding import rounding as rnd\n",
    "\n",
    "x = 3\n",
    "h = 0.001\n",
    "\n",
    "def f(x):\n",
    "    return (1+ (1+ (1+x)**(1/7))**(1/6))**(1/3)\n",
    "def RE(p1,p0):\n",
    "    return abs(p1-p0)/abs(p0)\n",
    "\n",
    "for i in range(-1,5):\n",
    "    print(i,':\\t', x+i*h, '\\t', round(f(x+i*h), 7))\n",
    "    \n",
    "df = 0.000749126914229282\n",
    "dff=-0.000173645871449687"
   ]
  },
  {
   "cell_type": "code",
   "execution_count": 2,
   "id": "e854b643",
   "metadata": {},
   "outputs": [
    {
     "name": "stdout",
     "output_type": "stream",
     "text": [
      "z*:  0.0007491269281567625\n",
      "z:  0.000749126914229282\n",
      "RE:  1.8591616395282462e-08\n",
      "SD:  8\n"
     ]
    }
   ],
   "source": [
    "f0 = (f(3.001)-f(2.999))/(2*h)\n",
    "#f0 = round(rnd(f0, 8)[-1], 15)\n",
    "\n",
    "RE_ = RE(df, f0)\n",
    "SD = sd(RE_)[-1]\n",
    "\n",
    "\n",
    "print(\"z*: \",f0)\n",
    "print(\"z: \",df)\n",
    "\n",
    "print('RE: ',RE_)\n",
    "print('SD: ',SD)"
   ]
  },
  {
   "cell_type": "code",
   "execution_count": 3,
   "id": "266c4516",
   "metadata": {},
   "outputs": [
    {
     "name": "stdout",
     "output_type": "stream",
     "text": [
      "z*:  0.0007491268865233991\n",
      "z:  0.000749126914229282\n",
      "RE:  3.6984232500792934e-08\n",
      "SD:  8\n"
     ]
    }
   ],
   "source": [
    "f0 = (-3*f(3.0) + 4*f(3.001) - f(3.002))/(2*h)\n",
    "#f0 = round(rnd(f0, 8)[-1], 15)\n",
    "\n",
    "RE_ = RE(df, f0)\n",
    "SD = sd(RE_)[-1]\n",
    "\n",
    "\n",
    "print(\"z*: \",f0)\n",
    "print(\"z: \",df)\n",
    "\n",
    "print('RE: ',RE_)\n",
    "print('SD: ',SD)"
   ]
  },
  {
   "cell_type": "code",
   "execution_count": 4,
   "id": "4ebcfc63",
   "metadata": {},
   "outputs": [
    {
     "name": "stdout",
     "output_type": "stream",
     "text": [
      "z*:  0.0007491269142789747\n",
      "z:  0.000749126914229282\n",
      "RE:  6.633411629620289e-11\n",
      "SD:  10\n"
     ]
    }
   ],
   "source": [
    "f0 = (-11*f(3.0) + 18*f(3.001) - 9*f(3.002) + 2*f(3.003))/(6*h)\n",
    "#f0 = round(rnd(f0, 8)[-1], 15)\n",
    "\n",
    "RE_ = RE(df, f0)\n",
    "SD = sd(RE_)[-1]\n",
    "\n",
    "\n",
    "print(\"z*: \",f0)\n",
    "print(\"z: \",df)\n",
    "\n",
    "print('RE: ',RE_)\n",
    "print('SD: ',SD)"
   ]
  },
  {
   "cell_type": "code",
   "execution_count": 5,
   "id": "61daee93",
   "metadata": {},
   "outputs": [
    {
     "name": "stdout",
     "output_type": "stream",
     "text": [
      "z*:  0.000749126914130945\n",
      "z:  0.000749126914229282\n",
      "RE:  1.3126885013642563e-10\n",
      "SD:  10\n"
     ]
    }
   ],
   "source": [
    "f0 = (-25*f(3.0) + 48*f(3.001) - 36*f(3.002) + 16*f(3.003) - 3*f(3.004))/(12*h)\n",
    "#f0 = round(rnd(f0, 8)[-1], 15)\n",
    "\n",
    "RE_ = RE(df, f0)\n",
    "SD = sd(RE_)[-1]\n",
    "\n",
    "\n",
    "print(\"z*: \",f0)\n",
    "print(\"z: \",df)\n",
    "\n",
    "print('RE: ',RE_)\n",
    "print('SD: ',SD)"
   ]
  },
  {
   "cell_type": "code",
   "execution_count": null,
   "id": "365b063f",
   "metadata": {},
   "outputs": [],
   "source": []
  },
  {
   "cell_type": "code",
   "execution_count": 6,
   "id": "9e8fdc70",
   "metadata": {},
   "outputs": [
    {
     "name": "stdout",
     "output_type": "stream",
     "text": [
      "z*:  -0.00017364576443412716\n",
      "z:  -0.000173645871449687\n",
      "RE:  6.162866120059599e-07\n",
      "SD:  6\n"
     ]
    }
   ],
   "source": [
    "f0_ = (f(2.999) - 2*f(3) + f(3.001))/(h**2)\n",
    "RE_ = RE(dff, f0_)\n",
    "SD = sd(RE_)[-1]\n",
    "\n",
    "\n",
    "print(\"z*: \",f0_)\n",
    "print(\"z: \",dff)\n",
    "\n",
    "print('RE: ',RE_)\n",
    "print('SD: ',SD)"
   ]
  },
  {
   "cell_type": "code",
   "execution_count": 7,
   "id": "a40223f4",
   "metadata": {},
   "outputs": [
    {
     "name": "stdout",
     "output_type": "stream",
     "text": [
      "z*:  -0.00017364598647873208\n",
      "z:  -0.000173645871449687\n",
      "RE:  6.624342284284623e-07\n",
      "SD:  6\n"
     ]
    }
   ],
   "source": [
    "f0_ = (2*f(3) - 5*f(3.001) + 4*f(3.002) - f(3.003))/(h**2)\n",
    "RE_ = RE(dff, f0_)\n",
    "SD = sd(RE_)[-1]\n",
    "\n",
    "\n",
    "print(\"z*: \",f0_)\n",
    "print(\"z: \",dff)\n",
    "\n",
    "print('RE: ',RE_)\n",
    "print('SD: ',SD)"
   ]
  },
  {
   "cell_type": "code",
   "execution_count": null,
   "id": "52f9b9fd",
   "metadata": {},
   "outputs": [],
   "source": []
  },
  {
   "cell_type": "code",
   "execution_count": 9,
   "id": "f7eea6c7",
   "metadata": {},
   "outputs": [
    {
     "name": "stdout",
     "output_type": "stream",
     "text": [
      "0 : \t 0.0 \t 1.0 \t\t 1.0\n",
      "1 : \t 0.15707963 \t 1.3845618 \t 5.5382471\n",
      "2 : \t 0.31415927 \t 1.9017135 \t 3.8034271\n",
      "3 : \t 0.4712389 \t 2.5710136 \t 10.284055\n",
      "4 : \t 0.62831853 \t 3.3959832 \t 6.7919664\n",
      "5 : \t 0.78539816 \t 4.352638 \t 17.410552\n",
      "6 : \t 0.9424778 \t 5.3803603 \t 10.760721\n",
      "7 : \t 1.0995574 \t 6.3808006 \t 25.523202\n",
      "8 : \t 1.2566371 \t 7.2297001 \t 14.4594\n",
      "9 : \t 1.4137167 \t 7.8020908 \t 31.208363\n",
      "10 : \t 1.5707963 \t 8.0044689 \t\t 8.0044689\n",
      "\n",
      "numerical sum:  7.0572948\n",
      "y:  28.2291792\n",
      "pi:  3.1415927\n",
      "RE:  0.8887111583609277\n",
      "SD:  0\n"
     ]
    }
   ],
   "source": [
    "from rounding import rounding as rnd\n",
    "import numpy as np\n",
    "from scipy import integrate\n",
    "from sig_digits import sig_digits as sd\n",
    "\n",
    "\n",
    "def f(x):\n",
    "    return np.exp(2.08*np.sin(x))\n",
    "\n",
    "def RE(p1,p0):\n",
    "    return abs(p1-p0)/abs(p0)\n",
    "\n",
    "def printing():\n",
    "    pass\n",
    "\n",
    "\n",
    "def simpson(a,b,n, flt_digits):\n",
    "    h = (b-a)/n\n",
    "    sum0 = 0\n",
    "    sum1 = 0\n",
    "    sum2 = 0\n",
    "\n",
    "    for i in range(n+1):\n",
    "        x = a+i*h\n",
    "        if i == 0 or i == n:\n",
    "            sum0 += f(x)\n",
    "            print(i,': \\t', round(rnd(x, flt_digits)[-1], 10),'\\t', round(rnd(f(x), flt_digits)[-1], 10), '\\t\\t', round(rnd(f(x), flt_digits)[-1], 10))\n",
    "        elif i%2==0:\n",
    "            sum2 += f(x)\n",
    "            print(i,': \\t', round(rnd(x, flt_digits)[-1], 10),'\\t', round(rnd(f(x), flt_digits)[-1], 10), '\\t', round(rnd(2*f(x), flt_digits)[-1], 10))\n",
    "        else:\n",
    "            sum1 += f(x)\n",
    "            print(i,': \\t', round(rnd(x, flt_digits)[-1], 10),'\\t', round(rnd(f(x), flt_digits)[-1], 10), '\\t', round(rnd(4*f(x), flt_digits)[-1], 10))\n",
    "    \n",
    "    sum = round(rnd( h/3*(sum0+(4*sum1)+(2*sum2)) , flt_digits)[-1], 8)\n",
    "    # y = round(integrate.quad(f,a,b)[0], 8)\n",
    "    y = 4*sum\n",
    "    RE_ = RE(np.pi, y)\n",
    "    SD = sd(RE_)[-1]\n",
    "\n",
    "    # print(\"sum0: \", round(sum0,8))\n",
    "    # print(\"sum1: \", round(sum1,8))\n",
    "    # print(\"sum2: \", round(sum2,8))\n",
    "    print(\"\\nnumerical sum: \", sum)\n",
    "    # print(\"original sum: \", y)\n",
    "    print(\"y: \", y)\n",
    "    print(\"pi: \", round(rnd(np.pi, flt_digits)[-1], 10))\n",
    "    print(\"RE: \", RE_)\n",
    "    print(\"SD: \", SD)\n",
    "\n",
    "simpson(0, np.pi/2, 10, 8)"
   ]
  },
  {
   "cell_type": "code",
   "execution_count": null,
   "id": "c60c9aa0",
   "metadata": {},
   "outputs": [],
   "source": []
  }
 ],
 "metadata": {
  "kernelspec": {
   "display_name": "Python 3 (ipykernel)",
   "language": "python",
   "name": "python3"
  },
  "language_info": {
   "codemirror_mode": {
    "name": "ipython",
    "version": 3
   },
   "file_extension": ".py",
   "mimetype": "text/x-python",
   "name": "python",
   "nbconvert_exporter": "python",
   "pygments_lexer": "ipython3",
   "version": "3.10.6"
  }
 },
 "nbformat": 4,
 "nbformat_minor": 5
}
