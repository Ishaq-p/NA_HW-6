{
 "cells": [
  {
   "cell_type": "code",
   "execution_count": 2,
   "id": "a4d63d29",
   "metadata": {},
   "outputs": [
    {
     "name": "stdout",
     "output_type": "stream",
     "text": [
      "10.0\n",
      "2.0\n"
     ]
    }
   ],
   "source": [
    "import torch\n",
    "\n",
    "# Define your function\n",
    "def f(x):\n",
    "    return x**3 + 2*x**2 - 5*x + 1\n",
    "\n",
    "# Create a tensor with the input values\n",
    "x = torch.tensor([1.0], requires_grad=True)\n",
    "\n",
    "# Compute the first derivative\n",
    "y = f(x)\n",
    "dy_dx = torch.autograd.grad(y, x, create_graph=True)[0]\n",
    "\n",
    "# Compute the second derivative\n",
    "dy2_dx2 = torch.autograd.grad(dy_dx, x)[0]\n",
    "\n",
    "print(dy2_dx2.item())  # Print the value of the second derivative\n",
    "print(dy_dx.item())\n"
   ]
  },
  {
   "cell_type": "code",
   "execution_count": null,
   "id": "9975c549",
   "metadata": {},
   "outputs": [],
   "source": []
  },
  {
   "cell_type": "code",
   "execution_count": null,
   "id": "42f4eb76",
   "metadata": {},
   "outputs": [],
   "source": []
  },
  {
   "cell_type": "code",
   "execution_count": 4,
   "id": "5655b013",
   "metadata": {},
   "outputs": [],
   "source": [
    "p=2"
   ]
  },
  {
   "cell_type": "code",
   "execution_count": null,
   "id": "d0b3ebde",
   "metadata": {},
   "outputs": [],
   "source": []
  },
  {
   "cell_type": "code",
   "execution_count": 5,
   "id": "7cedb62f",
   "metadata": {},
   "outputs": [],
   "source": [
    "p /= 2"
   ]
  },
  {
   "cell_type": "code",
   "execution_count": 6,
   "id": "d48268e3",
   "metadata": {},
   "outputs": [
    {
     "data": {
      "text/plain": [
       "1.0"
      ]
     },
     "execution_count": 6,
     "metadata": {},
     "output_type": "execute_result"
    }
   ],
   "source": [
    "p"
   ]
  },
  {
   "cell_type": "code",
   "execution_count": null,
   "id": "fb2d09bd",
   "metadata": {},
   "outputs": [],
   "source": []
  }
 ],
 "metadata": {
  "kernelspec": {
   "display_name": "Python 3 (ipykernel)",
   "language": "python",
   "name": "python3"
  },
  "language_info": {
   "codemirror_mode": {
    "name": "ipython",
    "version": 3
   },
   "file_extension": ".py",
   "mimetype": "text/x-python",
   "name": "python",
   "nbconvert_exporter": "python",
   "pygments_lexer": "ipython3",
   "version": "3.10.6"
  }
 },
 "nbformat": 4,
 "nbformat_minor": 5
}
