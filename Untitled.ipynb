{
 "cells": [
  {
   "cell_type": "code",
   "execution_count": 2,
   "id": "a4d63d29",
   "metadata": {},
   "outputs": [
    {
     "name": "stdout",
     "output_type": "stream",
     "text": [
      "10.0\n",
      "2.0\n"
     ]
    }
   ],
   "source": [
    "import torch\n",
    "\n",
    "# Define your function\n",
    "def f(x):\n",
    "    return x**3 + 2*x**2 - 5*x + 1\n",
    "\n",
    "# Create a tensor with the input values\n",
    "x = torch.tensor([1.0], requires_grad=True)\n",
    "\n",
    "# Compute the first derivative\n",
    "y = f(x)\n",
    "dy_dx = torch.autograd.grad(y, x, create_graph=True)[0]\n",
    "\n",
    "# Compute the second derivative\n",
    "dy2_dx2 = torch.autograd.grad(dy_dx, x)[0]\n",
    "\n",
    "print(dy2_dx2.item())  # Print the value of the second derivative\n",
    "print(dy_dx.item())\n"
   ]
  }
 ],
 "metadata": {
  "kernelspec": {
   "display_name": "Python 3 (ipykernel)",
   "language": "python",
   "name": "python3"
  },
  "language_info": {
   "codemirror_mode": {
    "name": "ipython",
    "version": 3
   },
   "file_extension": ".py",
   "mimetype": "text/x-python",
   "name": "python",
   "nbconvert_exporter": "python",
   "pygments_lexer": "ipython3",
   "version": "3.10.6"
  }
 },
 "nbformat": 4,
 "nbformat_minor": 5
}
