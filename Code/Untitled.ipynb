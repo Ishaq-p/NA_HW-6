{
 "cells": [
  {
   "cell_type": "code",
   "execution_count": 3,
   "id": "323127db",
   "metadata": {
    "scrolled": true
   },
   "outputs": [
    {
     "name": "stdout",
     "output_type": "stream",
     "text": [
      "-1 :\t 2.999 \t 1.1326032\n",
      "0 :\t 3.0 \t 1.1326035\n",
      "1 :\t 3.001 \t 1.1326039\n",
      "2 :\t 3.002 \t 1.1326042\n",
      "3 :\t 3.003 \t 1.1326046\n",
      "4 :\t 3.004 \t 1.1326049\n"
     ]
    }
   ],
   "source": [
    "import os\n",
    "os.chdir('Code')\n",
    "from sig_digits import sig_digits as sd\n",
    "import numpy as np\n",
    "from rounding import rounding as rnd\n",
    "\n",
    "x = 3\n",
    "h = 0.001\n",
    "\n",
    "def f(x):\n",
    "    return (1+ (1+ (1+x)**(1/5))**(1/8))**(1/6)\n",
    "def RE(p1,p0):\n",
    "    return abs(p1-p0)/abs(p0)\n",
    "\n",
    "for i in range(-1,5):\n",
    "    print(i,':\\t', x+i*h, '\\t', round(f(x+i*h), 7))\n",
    "    \n",
    "df = 0.000353207474423140\n",
    "dff=-0.0000799829541737696"
   ]
  },
  {
   "cell_type": "code",
   "execution_count": 2,
   "id": "e854b643",
   "metadata": {},
   "outputs": [
    {
     "name": "stdout",
     "output_type": "stream",
     "text": [
      "z*:  0.0003532074807077734\n",
      "RE:  1.7793035955439053e-08\n",
      "SD:  8\n"
     ]
    }
   ],
   "source": [
    "f0 = (f(3.001)-f(2.999))/(2*h)\n",
    "#f0 = round(rnd(f0, 8)[-1], 15)\n",
    "\n",
    "RE_ = RE(df, f0)\n",
    "SD = sd(RE_)[-1]\n",
    "\n",
    "\n",
    "print(\"z*: \",f0)\n",
    "#print(\"z: \",df)\n",
    "\n",
    "print('RE: ',RE_)\n",
    "print('SD: ',SD)"
   ]
  },
  {
   "cell_type": "code",
   "execution_count": 3,
   "id": "266c4516",
   "metadata": {},
   "outputs": [
    {
     "name": "stdout",
     "output_type": "stream",
     "text": [
      "z*:  0.0003532074617229597\n",
      "RE:  3.5956715792964135e-08\n",
      "SD:  8\n"
     ]
    }
   ],
   "source": [
    "f0 = (-3*f(3.0) + 4*f(3.001) - f(3.002))/(2*h)\n",
    "#f0 = round(rnd(f0, 8)[-1], 15)\n",
    "\n",
    "RE_ = RE(df, f0)\n",
    "SD = sd(RE_)[-1]\n",
    "\n",
    "\n",
    "print(\"z*: \",f0)\n",
    "#print(\"z: \",df)\n",
    "\n",
    "print('RE: ',RE_)\n",
    "print('SD: ',SD)"
   ]
  },
  {
   "cell_type": "code",
   "execution_count": 4,
   "id": "4ebcfc63",
   "metadata": {},
   "outputs": [
    {
     "name": "stdout",
     "output_type": "stream",
     "text": [
      "z*:  0.0003532074742314724\n",
      "RE:  5.426487406692025e-10\n",
      "SD:  9\n"
     ]
    }
   ],
   "source": [
    "f0 = (-11*f(3.0) + 18*f(3.001) - 9*f(3.002) + 2*f(3.003))/(6*h)\n",
    "#f0 = round(rnd(f0, 8)[-1], 15)\n",
    "\n",
    "RE_ = RE(df, f0)\n",
    "SD = sd(RE_)[-1]\n",
    "\n",
    "\n",
    "print(\"z*: \",f0)\n",
    "#print(\"z: \",df)\n",
    "\n",
    "print('RE: ',RE_)\n",
    "print('SD: ',SD)"
   ]
  },
  {
   "cell_type": "code",
   "execution_count": 5,
   "id": "61daee93",
   "metadata": {},
   "outputs": [
    {
     "name": "stdout",
     "output_type": "stream",
     "text": [
      "z*:  0.00035320747415745757\n",
      "RE:  7.521993750520873e-10\n",
      "SD:  9\n"
     ]
    }
   ],
   "source": [
    "f0 = (-25*f(3.0) + 48*f(3.001) - 36*f(3.002) + 16*f(3.003) - 3*f(3.004))/(12*h)\n",
    "#f0 = round(rnd(f0, 8)[-1], 15)\n",
    "\n",
    "RE_ = RE(df, f0)\n",
    "SD = sd(RE_)[-1]\n",
    "\n",
    "\n",
    "print(\"z*: \",f0)\n",
    "#print(\"z: \",df)\n",
    "\n",
    "print('RE: ',RE_)\n",
    "print('SD: ',SD)"
   ]
  },
  {
   "cell_type": "code",
   "execution_count": null,
   "id": "365b063f",
   "metadata": {},
   "outputs": [],
   "source": []
  },
  {
   "cell_type": "code",
   "execution_count": 33,
   "id": "9e8fdc70",
   "metadata": {},
   "outputs": [
    {
     "name": "stdout",
     "output_type": "stream",
     "text": [
      "z*:  -7.998290918465045e-05\n",
      "RE:  5.624841557437429e-07\n",
      "SD:  6\n"
     ]
    }
   ],
   "source": [
    "f0_ = (f(2.999) - 2*f(3) + f(3.001))/(h**2)\n",
    "RE_ = RE(dff, f0_)\n",
    "SD = sd(RE_)[-1]\n",
    "\n",
    "\n",
    "print(\"z*: \",f0_)\n",
    "#print(\"z: \",dff)\n",
    "\n",
    "print('RE: ',RE_)\n",
    "print('SD: ',SD)"
   ]
  },
  {
   "cell_type": "code",
   "execution_count": 7,
   "id": "a40223f4",
   "metadata": {},
   "outputs": [
    {
     "name": "stdout",
     "output_type": "stream",
     "text": [
      "z*:  -7.998224305083568e-05\n",
      "RE:  8.891010139210149e-06\n",
      "SD:  5\n"
     ]
    }
   ],
   "source": [
    "f0_ = (2*f(3) - 5*f(3.001) + 4*f(3.002) - f(3.003))/(h**2)\n",
    "RE_ = RE(dff, f0_)\n",
    "SD = sd(RE_)[-1]\n",
    "\n",
    "\n",
    "print(\"z*: \",f0_)\n",
    "#print(\"z: \",dff)\n",
    "\n",
    "print('RE: ',RE_)\n",
    "print('SD: ',SD)"
   ]
  },
  {
   "cell_type": "code",
   "execution_count": null,
   "id": "8639d7cc",
   "metadata": {},
   "outputs": [],
   "source": []
  },
  {
   "cell_type": "code",
   "execution_count": 39,
   "id": "6f4aaf11",
   "metadata": {},
   "outputs": [
    {
     "data": {
      "text/plain": [
       "[('(n)', '(x)', '(y)', '(L)', '(L_i*y_i)'),\n",
       " (1, 0, 13.649, -0.03673923800098961, -0.5014538594755071),\n",
       " (2, 43, 35.606, 0.566125633157097, 20.157469294191596),\n",
       " (3, 80, 70.586, 0.7557915057915059, 53.34829922779923),\n",
       " (4, 94, 84.68, -0.2851779009476131, -24.148864652243876),\n",
       " ('L(58) = 48.855', 'RE = 0.03571597729652709')]"
      ]
     },
     "execution_count": 39,
     "metadata": {},
     "output_type": "execute_result"
    }
   ],
   "source": [
    "from rounding import rounding as rnd\n",
    "# import numpy as np\n",
    "\n",
    "\n",
    ", sig\n",
    "\n",
    "lagrange([0,43, 80, 94],[13.649, 35.606, 70.586, 84.680], 58, 50.665)\n"
   ]
  },
  {
   "cell_type": "code",
   "execution_count": null,
   "id": "ee181247",
   "metadata": {},
   "outputs": [],
   "source": []
  }
 ],
 "metadata": {
  "kernelspec": {
   "display_name": "Python 3 (ipykernel)",
   "language": "python",
   "name": "python3"
  },
  "language_info": {
   "codemirror_mode": {
    "name": "ipython",
    "version": 3
   },
   "file_extension": ".py",
   "mimetype": "text/x-python",
   "name": "python",
   "nbconvert_exporter": "python",
   "pygments_lexer": "ipython3",
   "version": "3.10.6"
  }
 },
 "nbformat": 4,
 "nbformat_minor": 5
}
