{
 "cells": [
  {
   "cell_type": "code",
   "execution_count": 2,
   "id": "323127db",
   "metadata": {},
   "outputs": [
    {
     "name": "stdout",
     "output_type": "stream",
     "text": [
      "-1 :\t 2.999 \t 1.3038116\n",
      "0 :\t 3.0 \t 1.3038126\n",
      "1 :\t 3.001 \t 1.3038137\n",
      "2 :\t 3.002 \t 1.3038147\n",
      "3 :\t 3.003 \t 1.3038157\n",
      "4 :\t 3.004 \t 1.3038167\n"
     ]
    }
   ],
   "source": [
    "import os\n",
    "os.chdir('Code')\n",
    "from sig_digits import sig_digits as sd\n",
    "import numpy as np\n",
    "from rounding import rounding as rnd\n",
    "\n",
    "x = 3\n",
    "h = 0.001\n",
    "\n",
    "def f(x):\n",
    "    return (1+ (1+ (1+x)**(1/8))**(1/4))**(1/3)\n",
    "def RE(p1,p0):\n",
    "    return abs(p1-p0)/abs(p0)\n",
    "\n",
    "for i in range(-1,5):\n",
    "    print(i,':\\t', x+i*h, '\\t', round(f(x+i*h), 7))\n",
    "    \n",
    "df = 0.00101223362803622\n",
    "dff=-0.000235885152724429"
   ]
  },
  {
   "cell_type": "code",
   "execution_count": 19,
   "id": "e854b643",
   "metadata": {},
   "outputs": [
    {
     "name": "stdout",
     "output_type": "stream",
     "text": [
      "z*:  0.0010122336470130833\n",
      "z:  0.00101223362803622\n",
      "RE:  1.874751281243871e-08\n",
      "SD:  8\n"
     ]
    }
   ],
   "source": [
    "f0 = (f(3.001)-f(2.999))/(2*h)\n",
    "#f0 = round(rnd(f0, 8)[-1], 15)\n",
    "\n",
    "RE_ = RE(df, f0)\n",
    "SD = sd(RE_)[-1]\n",
    "\n",
    "\n",
    "print(\"z*: \",f0)\n",
    "print(\"z: \",df)\n",
    "\n",
    "print('RE: ',RE_)\n",
    "print('SD: ',SD)"
   ]
  },
  {
   "cell_type": "code",
   "execution_count": 20,
   "id": "266c4516",
   "metadata": {},
   "outputs": [
    {
     "name": "stdout",
     "output_type": "stream",
     "text": [
      "z*:  0.001012233590058642\n",
      "z:  0.00101223362803622\n",
      "RE:  3.751859083683542e-08\n",
      "SD:  8\n"
     ]
    }
   ],
   "source": [
    "f0 = (-3*f(3.0) + 4*f(3.001) - f(3.002))/(2*h)\n",
    "#f0 = round(rnd(f0, 8)[-1], 15)\n",
    "\n",
    "RE_ = RE(df, f0)\n",
    "SD = sd(RE_)[-1]\n",
    "\n",
    "\n",
    "print(\"z*: \",f0)\n",
    "print(\"z: \",df)\n",
    "\n",
    "print('RE: ',RE_)\n",
    "print('SD: ',SD)"
   ]
  },
  {
   "cell_type": "code",
   "execution_count": 17,
   "id": "4ebcfc63",
   "metadata": {},
   "outputs": [
    {
     "name": "stdout",
     "output_type": "stream",
     "text": [
      "z*:  0.0010122336277322101\n",
      "z:  0.00101223362803622\n",
      "RE:  3.00335660814949e-10\n",
      "SD:  10\n"
     ]
    }
   ],
   "source": [
    "f0 = (-11*f(3.0) + 18*f(3.001) - 9*f(3.002) + 2*f(3.003))/(6*h)\n",
    "#f0 = round(rnd(f0, 8)[-1], 15)\n",
    "\n",
    "RE_ = RE(df, f0)\n",
    "SD = sd(RE_)[-1]\n",
    "\n",
    "\n",
    "print(\"z*: \",f0)\n",
    "print(\"z: \",df)\n",
    "\n",
    "print('RE: ',RE_)\n",
    "print('SD: ',SD)"
   ]
  },
  {
   "cell_type": "code",
   "execution_count": 18,
   "id": "61daee93",
   "metadata": {},
   "outputs": [
    {
     "name": "stdout",
     "output_type": "stream",
     "text": [
      "z*:  0.0010122336280282695\n",
      "z:  0.00101223362803622\n",
      "RE:  7.854367125031104e-12\n",
      "SD:  11\n"
     ]
    }
   ],
   "source": [
    "f0 = (-25*f(3.0) + 48*f(3.001) - 36*f(3.002) + 16*f(3.003) - 3*f(3.004))/(12*h)\n",
    "#f0 = round(rnd(f0, 8)[-1], 15)\n",
    "\n",
    "RE_ = RE(df, f0)\n",
    "SD = sd(RE_)[-1]\n",
    "\n",
    "\n",
    "print(\"z*: \",f0)\n",
    "print(\"z: \",df)\n",
    "\n",
    "print('RE: ',RE_)\n",
    "print('SD: ',SD)"
   ]
  },
  {
   "cell_type": "code",
   "execution_count": null,
   "id": "365b063f",
   "metadata": {},
   "outputs": [],
   "source": []
  },
  {
   "cell_type": "code",
   "execution_count": 15,
   "id": "9e8fdc70",
   "metadata": {},
   "outputs": [
    {
     "name": "stdout",
     "output_type": "stream",
     "text": [
      "z*:  -0.00023588531128382328\n",
      "z:  -0.000235885152724429\n",
      "RE:  6.721885030896474e-07\n",
      "SD:  6\n"
     ]
    }
   ],
   "source": [
    "f0_ = (f(2.999) - 2*f(3) + f(3.001))/(h**2)\n",
    "RE_ = RE(dff, f0_)\n",
    "SD = sd(RE_)[-1]\n",
    "\n",
    "\n",
    "print(\"z*: \",f0_)\n",
    "print(\"z: \",dff)\n",
    "\n",
    "print('RE: ',RE_)\n",
    "print('SD: ',SD)"
   ]
  },
  {
   "cell_type": "code",
   "execution_count": 16,
   "id": "a40223f4",
   "metadata": {},
   "outputs": [
    {
     "name": "stdout",
     "output_type": "stream",
     "text": [
      "z*:  -0.0002358846451500085\n",
      "z:  -0.000235885152724429\n",
      "RE:  2.1517908474271323e-06\n",
      "SD:  6\n"
     ]
    }
   ],
   "source": [
    "f0_ = (2*f(3) - 5*f(3.001) + 4*f(3.002) - f(3.003))/(h**2)\n",
    "RE_ = RE(dff, f0_)\n",
    "SD = sd(RE_)[-1]\n",
    "\n",
    "\n",
    "print(\"z*: \",f0_)\n",
    "print(\"z: \",dff)\n",
    "\n",
    "print('RE: ',RE_)\n",
    "print('SD: ',SD)"
   ]
  }
 ],
 "metadata": {
  "kernelspec": {
   "display_name": "Python 3 (ipykernel)",
   "language": "python",
   "name": "python3"
  },
  "language_info": {
   "codemirror_mode": {
    "name": "ipython",
    "version": 3
   },
   "file_extension": ".py",
   "mimetype": "text/x-python",
   "name": "python",
   "nbconvert_exporter": "python",
   "pygments_lexer": "ipython3",
   "version": "3.10.6"
  }
 },
 "nbformat": 4,
 "nbformat_minor": 5
}
